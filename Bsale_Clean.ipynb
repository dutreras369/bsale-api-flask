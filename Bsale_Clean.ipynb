{
  "nbformat": 4,
  "nbformat_minor": 0,
  "metadata": {
    "colab": {
      "provenance": [],
      "authorship_tag": "ABX9TyOt3w/sjoZzkVsaDuI+eaMx",
      "include_colab_link": true
    },
    "kernelspec": {
      "name": "python3",
      "display_name": "Python 3"
    },
    "language_info": {
      "name": "python"
    }
  },
  "cells": [
    {
      "cell_type": "markdown",
      "metadata": {
        "id": "view-in-github",
        "colab_type": "text"
      },
      "source": [
        "<a href=\"https://colab.research.google.com/github/dutreras369/bsale-api-flask/blob/master/Bsale_Clean.ipynb\" target=\"_parent\"><img src=\"https://colab.research.google.com/assets/colab-badge.svg\" alt=\"Open In Colab\"/></a>"
      ]
    },
    {
      "cell_type": "markdown",
      "source": [
        "1. Dependencias\n",
        "Primero, asegúrate de instalar las dependencias necesarias en tu Colab:"
      ],
      "metadata": {
        "id": "Wp-26WwuEptD"
      }
    },
    {
      "cell_type": "code",
      "source": [
        "!pip install flask flask-ngrok pandas requests\n"
      ],
      "metadata": {
        "id": "K1qxKePFEztJ"
      },
      "execution_count": null,
      "outputs": []
    },
    {
      "cell_type": "markdown",
      "source": [
        "\n",
        "2. Configuración Inicial del Flask App\n",
        "Este es el código base para restaurar tu servidor Flask:\n",
        "\n"
      ],
      "metadata": {
        "id": "TdnvlVpME5GM"
      }
    },
    {
      "cell_type": "code",
      "source": [
        "from flask import Flask, request, jsonify\n",
        "from flask_cors import CORS\n",
        "from pyngrok import ngrok\n",
        "import requests\n",
        "\n",
        "app = Flask(__name__)\n",
        "CORS(app, resources={r\"/*\": {\"origins\": \"*\"}})  # Permite todas las orígenes\n",
        "\n",
        "# Configuración de la API de Bsale\n",
        "BSALE_BASE_URL = \"https://api.bsale.io/v1/\"\n",
        "BSALE_API_KEY = \"9da662145775dea91ce49c52e00ea760190c46c6\"  # Reemplaza con tu API Key de Bsale\n",
        "HEADERS = {\"access_token\": BSALE_API_KEY}\n"
      ],
      "metadata": {
        "id": "jqiGA-88E400"
      },
      "execution_count": null,
      "outputs": []
    },
    {
      "cell_type": "markdown",
      "source": [
        "*italicized text*"
      ],
      "metadata": {
        "id": "PgYRCRfyFJVQ"
      }
    },
    {
      "cell_type": "code",
      "source": [
        "Obtener Productos desde Bsale"
      ],
      "metadata": {
        "id": "SqNBoeuOFRHR"
      },
      "execution_count": null,
      "outputs": []
    },
    {
      "cell_type": "code",
      "source": [
        "def fetch_products(limit=10):\n",
        "    \"\"\"Obtener un número limitado de productos desde Bsale.\"\"\"\n",
        "    products = []\n",
        "    url = f\"{BSALE_BASE_URL}products.json?limit={limit}\"\n",
        "\n",
        "    response = requests.get(url, headers=HEADERS).json()\n",
        "    if \"error\" in response:\n",
        "        raise Exception(f\"API Error: {response['error']}\")\n",
        "\n",
        "    for item in response.get(\"items\", []):\n",
        "        product = {\n",
        "            \"name\": item.get(\"name\"),\n",
        "            \"id\": item.get(\"id\"),\n",
        "            \"items\": []  # Variantes del producto\n",
        "        }\n",
        "\n",
        "        # Obtener variantes del producto\n",
        "        variants_href = item.get(\"variants\", {}).get(\"href\")\n",
        "        if variants_href:\n",
        "            product[\"items\"] = fetch_variants(variants_href)\n",
        "\n",
        "        products.append(product)\n",
        "\n",
        "    return products\n"
      ],
      "metadata": {
        "id": "VgWRu4jCFFFS"
      },
      "execution_count": null,
      "outputs": []
    },
    {
      "cell_type": "markdown",
      "source": [
        "\n",
        "\n",
        "```\n",
        "# This is formatted as code\n",
        "```\n",
        "\n"
      ],
      "metadata": {
        "id": "ggysuFMPFJKm"
      }
    },
    {
      "cell_type": "code",
      "source": [
        "Obtener Variantes"
      ],
      "metadata": {
        "id": "K33HBe-VFXZD"
      },
      "execution_count": null,
      "outputs": []
    },
    {
      "cell_type": "code",
      "source": [
        "def fetch_variants(variants_url):\n",
        "    \"\"\"Obtener variaciones de producto desde Bsale.\"\"\"\n",
        "    response = requests.get(variants_url, headers=HEADERS).json()\n",
        "    if \"error\" in response:\n",
        "        raise Exception(f\"Variants API Error: {response['error']}\")\n",
        "\n",
        "    return [\n",
        "        {\n",
        "            \"id\": variant.get(\"id\"),\n",
        "            \"barcode\": variant.get(\"barCode\"),\n",
        "            \"sku\": variant.get(\"code\"),\n",
        "            \"description\": variant.get(\"description\"),\n",
        "            \"costs\": fetch_variant_cost(variant.get(\"costs\", {}).get(\"href\")),\n",
        "        }\n",
        "        for variant in response.get(\"items\", [])\n",
        "    ]\n",
        "\n"
      ],
      "metadata": {
        "id": "s7nP4q6UFGEo"
      },
      "execution_count": null,
      "outputs": []
    },
    {
      "cell_type": "markdown",
      "source": [
        "Obtener Costos"
      ],
      "metadata": {
        "id": "2E143hLsFlkB"
      }
    },
    {
      "cell_type": "code",
      "source": [
        "def fetch_variant_cost(costs_url):\n",
        "    \"\"\"Obtener el costo promedio de una variación.\"\"\"\n",
        "    if not costs_url:\n",
        "        return 0\n",
        "    response = requests.get(costs_url, headers=HEADERS).json()\n",
        "    return response.get(\"averageCost\", 0)\n"
      ],
      "metadata": {
        "id": "10GyrqwFFdUZ"
      },
      "execution_count": null,
      "outputs": []
    },
    {
      "cell_type": "markdown",
      "source": [
        "Obtener Stock"
      ],
      "metadata": {
        "id": "zt-mPxceFqHZ"
      }
    },
    {
      "cell_type": "code",
      "source": [
        "def fetch_stocks(limit=10):\n",
        "    \"\"\"Obtener un número limitado de stocks desde Bsale.\"\"\"\n",
        "    stocks = []\n",
        "    url = f\"{BSALE_BASE_URL}stocks.json?limit={limit}\"\n",
        "\n",
        "    response = requests.get(url, headers=HEADERS).json()\n",
        "    if \"error\" in response:\n",
        "        raise Exception(f\"Stock API Error: {response['error']}\")\n",
        "\n",
        "    return response.get(\"items\", [])\n"
      ],
      "metadata": {
        "id": "mD3G_fVEFrIf"
      },
      "execution_count": null,
      "outputs": []
    },
    {
      "cell_type": "markdown",
      "source": [
        "Consolidar\n"
      ],
      "metadata": {
        "id": "A6gBv2zUF2WB"
      }
    },
    {
      "cell_type": "code",
      "source": [
        "def consolidate_data(products, stocks):\n",
        "    consolidated = []\n",
        "\n",
        "    for product in products:\n",
        "        consolidated_product = {\n",
        "            \"name\": product[\"name\"],\n",
        "            \"id\": product[\"id\"],\n",
        "            \"items\": []\n",
        "        }\n",
        "\n",
        "        for item in product[\"items\"]:\n",
        "            variant_id = item[\"id\"]\n",
        "\n",
        "            # Buscar stock asociado\n",
        "            stock_match = next(\n",
        "                (stock for stock in stocks if stock.get(\"variant\", {}).get(\"id\") == str(variant_id)),\n",
        "                None\n",
        "            )\n",
        "\n",
        "            if stock_match:\n",
        "                item[\"stock\"] = {\n",
        "                    \"id\": stock_match.get(\"id\"),\n",
        "                    \"quantity\": stock_match.get(\"quantity\", 0),\n",
        "                    \"quantityReserved\": stock_match.get(\"quantityReserved\", 0),\n",
        "                    \"quantityAvailable\": stock_match.get(\"quantityAvailable\", 0)\n",
        "                }\n",
        "\n",
        "            consolidated_product[\"items\"].append(item)\n",
        "\n",
        "        if consolidated_product[\"items\"]:\n",
        "            consolidated.append(consolidated_product)\n",
        "\n",
        "    return consolidated\n"
      ],
      "metadata": {
        "id": "7wDfIMqrFzs3"
      },
      "execution_count": null,
      "outputs": []
    },
    {
      "cell_type": "markdown",
      "source": [
        "Controller"
      ],
      "metadata": {
        "id": "OFcFczplGbhD"
      }
    },
    {
      "cell_type": "code",
      "source": [
        "@app.route('/sync', methods=['GET'])\n",
        "def sync_data():\n",
        "    try:\n",
        "        products = fetch_products(limit=10)\n",
        "        stocks = fetch_stocks(limit=10)\n",
        "        consolidated_data = consolidate_data(products, stocks)\n",
        "\n",
        "        return jsonify({\"products\": consolidated_data}), 200\n",
        "    except Exception as e:\n",
        "        return jsonify({\"error\": str(e)}), 500\n"
      ],
      "metadata": {
        "id": "Ms1M75P7GZRq"
      },
      "execution_count": null,
      "outputs": []
    },
    {
      "cell_type": "markdown",
      "source": [
        "Server\n"
      ],
      "metadata": {
        "id": "pY12XMLMGgAv"
      }
    },
    {
      "cell_type": "code",
      "source": [
        "# Exponer el puerto 5000 usando ngrok\n",
        "public_url = ngrok.connect(5000)\n",
        "print(f\"URL pública de ngrok: {public_url}\")\n",
        "\n",
        "if __name__ == '__main__':\n",
        "    app.run(port=5000)\n",
        "\n"
      ],
      "metadata": {
        "id": "KNQrrU5ZGfKF"
      },
      "execution_count": null,
      "outputs": []
    }
  ]
}